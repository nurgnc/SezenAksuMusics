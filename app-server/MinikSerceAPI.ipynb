{
 "cells": [
  {
   "cell_type": "code",
   "execution_count": 1,
   "metadata": {
    "ExecuteTime": {
     "end_time": "2021-02-14T23:14:26.445556Z",
     "start_time": "2021-02-14T23:14:25.934079Z"
    }
   },
   "outputs": [],
   "source": [
    "from bs4 import BeautifulSoup as bs\n",
    "import requests\n",
    "import json\n",
    "from flask import Flask\n",
    "from flask_cors import CORS\n",
    "from flask import jsonify\n",
    "from threading import Thread\n",
    "import sqlite3"
   ]
  },
  {
   "cell_type": "code",
   "execution_count": 2,
   "metadata": {
    "ExecuteTime": {
     "end_time": "2021-02-14T23:14:27.528464Z",
     "start_time": "2021-02-14T23:14:27.524461Z"
    }
   },
   "outputs": [],
   "source": [
    "# url = \"https://www.youtube.com/playlist?list=PLEwmXfTz7jDynzZKZzpx8sdKjnWuLQAW3\""
   ]
  },
  {
   "cell_type": "code",
   "execution_count": 3,
   "metadata": {
    "ExecuteTime": {
     "end_time": "2021-02-14T23:14:27.767300Z",
     "start_time": "2021-02-14T23:14:27.764301Z"
    }
   },
   "outputs": [],
   "source": [
    "# from selenium import webdriver\n",
    "# opts = webdriver.FirefoxOptions()\n",
    "# opts.headless = False\n",
    "# browser = webdriver.Firefox(executable_path=r'geckodriver.exe',options=opts)\n",
    "# browser.get(url)"
   ]
  },
  {
   "cell_type": "code",
   "execution_count": 4,
   "metadata": {
    "ExecuteTime": {
     "end_time": "2021-02-14T23:14:28.024298Z",
     "start_time": "2021-02-14T23:14:28.021295Z"
    }
   },
   "outputs": [],
   "source": [
    "# songs = browser.find_elements_by_tag_name(\"ytd-playlist-video-renderer\")"
   ]
  },
  {
   "cell_type": "code",
   "execution_count": 5,
   "metadata": {
    "ExecuteTime": {
     "end_time": "2021-02-14T23:14:28.279865Z",
     "start_time": "2021-02-14T23:14:28.276861Z"
    }
   },
   "outputs": [],
   "source": [
    "# len(songs)\n",
    "# song_list = []"
   ]
  },
  {
   "cell_type": "code",
   "execution_count": 6,
   "metadata": {
    "ExecuteTime": {
     "end_time": "2021-02-14T23:14:28.583731Z",
     "start_time": "2021-02-14T23:14:28.580759Z"
    }
   },
   "outputs": [],
   "source": [
    "# conn = sqlite3.connect('playlist.db')\n",
    "# c = conn.cursor()\n",
    "# c.execute('CREATE TABLE if not exists songs (id int primary key,song_name varchar(100),singer varchar(50),song_yt_url varchar(20))')\n",
    "# for song in songs:\n",
    "#     data = song.find_element_by_tag_name('h3')\n",
    "#     link = data.find_element_by_tag_name('a').get_attribute('href')\n",
    "#     title = data.find_element_by_tag_name('a').get_attribute('title')\n",
    "#     print(title)\n",
    "#     song = link.split(\"&\")[0].split(\"=\")[1]\n",
    "#     index = link.split(\"&\")[2].split(\"=\")[1]\n",
    "#     song_inf = title.split(' - ')\n",
    "#     if(len(song_inf)<2):\n",
    "#         temp = song_inf[0]\n",
    "#         song_inf[0] = \"Sezen Aksu\"\n",
    "#         song_inf.append(temp)\n",
    "#     song_list.append(song)\n",
    "#     query = \"INSERT INTO songs (id,song_name,singer,song_yt_url) VALUES ({},'{}','{}','{}')\".format(index,song_inf[1].replace(\"'\",\" \"),song_inf[0],song)\n",
    "#     print(query)\n",
    "#     c.execute(query)\n",
    "#     conn.commit()"
   ]
  },
  {
   "cell_type": "code",
   "execution_count": 7,
   "metadata": {
    "ExecuteTime": {
     "end_time": "2021-02-14T23:14:28.939871Z",
     "start_time": "2021-02-14T23:14:28.934895Z"
    }
   },
   "outputs": [],
   "source": [
    "def mapToJson(songList):\n",
    "    songJson = {}\n",
    "    _list = []\n",
    "    for song in songList:\n",
    "        songJsonObject = {}\n",
    "        songJsonObject['id'] = song[0]\n",
    "        songJsonObject['song_name'] = song[1]\n",
    "        songJsonObject['singer'] = song[2]\n",
    "        songJsonObject['song_yt_url'] = song[3]\n",
    "        _list.append(songJsonObject)\n",
    "    songJson[\"songs\"] = _list\n",
    "    return songJson"
   ]
  },
  {
   "cell_type": "code",
   "execution_count": 8,
   "metadata": {
    "ExecuteTime": {
     "end_time": "2021-02-14T23:14:29.286627Z",
     "start_time": "2021-02-14T23:14:29.276662Z"
    }
   },
   "outputs": [],
   "source": [
    "def start_service():\n",
    "    app = Flask(__name__)\n",
    "    \n",
    "    CORS(app)\n",
    "    \n",
    "    @app.route('/songs', methods=['GET'])\n",
    "    def getAllSongs():\n",
    "        query = \"SELECT * FROM songs\"\n",
    "        conn = sqlite3.connect('playlist.db')\n",
    "        cur = conn.cursor()\n",
    "        cur.execute(query)\n",
    "        return jsonify(mapToJson(cur.fetchall()))\n",
    "    \n",
    "    @app.route('/songs/<int:page>', methods=['GET'])\n",
    "    def getSongsByPage(page):\n",
    "        limit = 6\n",
    "        offset = (page-1)*limit\n",
    "        query = \"SELECT * FROM songs limit {} offset {}\".format(limit,offset)\n",
    "        conn = sqlite3.connect('playlist.db')\n",
    "        cur = conn.cursor()\n",
    "        cur.execute(query)\n",
    "        return jsonify(mapToJson(cur.fetchall()))\n",
    "    \n",
    "    @app.route('/song/<songName>', methods=['GET'])\n",
    "    def getSongByName(songName):\n",
    "        query = \"SELECT * FROM songs WHERE song_name like '%{}%'\".format(songName)\n",
    "        conn = sqlite3.connect('playlist.db')\n",
    "        cur = conn.cursor()\n",
    "        cur.execute(query)\n",
    "        return jsonify(mapToJson(cur.fetchall()))\n",
    "    \n",
    "    app.run(host='0.0.0.0', port=5000)"
   ]
  },
  {
   "cell_type": "code",
   "execution_count": null,
   "metadata": {
    "ExecuteTime": {
     "start_time": "2021-02-14T23:14:30.016Z"
    }
   },
   "outputs": [
    {
     "name": "stdout",
     "output_type": "stream",
     "text": [
      " * Serving Flask app \"__main__\" (lazy loading)\n",
      " * Environment: production\n",
      "   WARNING: Do not use the development server in a production environment.\n",
      "   Use a production WSGI server instead.\n",
      " * Debug mode: off\n"
     ]
    },
    {
     "name": "stderr",
     "output_type": "stream",
     "text": [
      " * Running on http://0.0.0.0:5000/ (Press CTRL+C to quit)\n",
      "127.0.0.1 - - [15/Feb/2021 02:14:33] \"GET /songs/1 HTTP/1.1\" 200 -\n",
      "127.0.0.1 - - [15/Feb/2021 02:14:47] \"GET /songs/1 HTTP/1.1\" 200 -\n",
      "127.0.0.1 - - [15/Feb/2021 02:14:49] \"GET /songs/2 HTTP/1.1\" 200 -\n",
      "127.0.0.1 - - [15/Feb/2021 02:15:40] \"GET /songs/3 HTTP/1.1\" 200 -\n",
      "127.0.0.1 - - [15/Feb/2021 02:15:53] \"GET /songs/4 HTTP/1.1\" 200 -\n",
      "127.0.0.1 - - [15/Feb/2021 02:16:02] \"GET /songs/5 HTTP/1.1\" 200 -\n",
      "127.0.0.1 - - [15/Feb/2021 02:17:44] \"GET /songs/4 HTTP/1.1\" 200 -\n",
      "127.0.0.1 - - [15/Feb/2021 02:17:55] \"GET /songs/3 HTTP/1.1\" 200 -\n"
     ]
    }
   ],
   "source": [
    "start_service()"
   ]
  },
  {
   "cell_type": "code",
   "execution_count": null,
   "metadata": {
    "ExecuteTime": {
     "end_time": "2021-02-06T21:33:49.017668Z",
     "start_time": "2021-02-06T21:33:49.002666Z"
    }
   },
   "outputs": [],
   "source": [
    "song_list"
   ]
  },
  {
   "cell_type": "code",
   "execution_count": null,
   "metadata": {
    "ExecuteTime": {
     "end_time": "2021-02-06T21:47:02.679291Z",
     "start_time": "2021-02-06T21:47:02.638273Z"
    }
   },
   "outputs": [],
   "source": [
    "for song in songs:\n",
    "    data = song.find_element_by_tag_name('h3')\n",
    "    link = data.find_element_by_tag_name('a').get_attribute('href')\n",
    "    title = data.find_element_by_tag_name('a').get_attribute('title')\n",
    "    print(title)\n",
    "    song = link.split(\"&\")[0].split(\"=\")[1]\n",
    "    index = link.split(\"&\")[2].split(\"=\")[1]\n",
    "    song_list.append(song)\n",
    "    query = \"INSERT TABLE songs (id,song_name,singer,song_yt_url) VALUES ({},'{}','{}','{}')\".format(index,title.split(' - ')[1],title.split(' - ')[0],song)\n",
    "    print(query)\n",
    "    break"
   ]
  },
  {
   "cell_type": "code",
   "execution_count": null,
   "metadata": {
    "ExecuteTime": {
     "end_time": "2021-02-06T21:58:49.956542Z",
     "start_time": "2021-02-06T21:58:49.951208Z"
    }
   },
   "outputs": [],
   "source": [
    "conn.close()"
   ]
  },
  {
   "cell_type": "code",
   "execution_count": null,
   "metadata": {},
   "outputs": [],
   "source": []
  },
  {
   "cell_type": "code",
   "execution_count": null,
   "metadata": {},
   "outputs": [],
   "source": []
  }
 ],
 "metadata": {
  "kernelspec": {
   "display_name": "Python 3",
   "language": "python",
   "name": "python3"
  },
  "language_info": {
   "codemirror_mode": {
    "name": "ipython",
    "version": 3
   },
   "file_extension": ".py",
   "mimetype": "text/x-python",
   "name": "python",
   "nbconvert_exporter": "python",
   "pygments_lexer": "ipython3",
   "version": "3.7.3"
  },
  "varInspector": {
   "cols": {
    "lenName": 16,
    "lenType": 16,
    "lenVar": 40
   },
   "kernels_config": {
    "python": {
     "delete_cmd_postfix": "",
     "delete_cmd_prefix": "del ",
     "library": "var_list.py",
     "varRefreshCmd": "print(var_dic_list())"
    },
    "r": {
     "delete_cmd_postfix": ") ",
     "delete_cmd_prefix": "rm(",
     "library": "var_list.r",
     "varRefreshCmd": "cat(var_dic_list()) "
    }
   },
   "types_to_exclude": [
    "module",
    "function",
    "builtin_function_or_method",
    "instance",
    "_Feature"
   ],
   "window_display": false
  }
 },
 "nbformat": 4,
 "nbformat_minor": 2
}
